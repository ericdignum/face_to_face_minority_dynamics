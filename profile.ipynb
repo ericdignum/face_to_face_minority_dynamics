{
 "cells": [
  {
   "cell_type": "code",
   "execution_count": 1,
   "id": "ff93a7de",
   "metadata": {},
   "outputs": [],
   "source": [
    "from homophily_model import HomophilyModel"
   ]
  },
  {
   "cell_type": "code",
   "execution_count": 2,
   "id": "624bff5b",
   "metadata": {},
   "outputs": [
    {
     "name": "stdout",
     "output_type": "stream",
     "text": [
      "1.25 s ± 112 ms per loop (mean ± std. dev. of 20 runs, 1 loop each)\n"
     ]
    }
   ],
   "source": [
    "%%timeit -r 20\n",
    "model = HomophilyModel()\n",
    "model.run(number_of_iterations=1000, verbose=False)"
   ]
  },
  {
   "cell_type": "code",
   "execution_count": 3,
   "id": "ebcfee01",
   "metadata": {},
   "outputs": [
    {
     "name": "stdout",
     "output_type": "stream",
     "text": [
      "3.91 s ± 498 ms per loop (mean ± std. dev. of 20 runs, 1 loop each)\n"
     ]
    }
   ],
   "source": [
    "%%timeit -r 20\n",
    "model = HomophilyModel()\n",
    "model.run(number_of_iterations=3000, verbose=False)"
   ]
  },
  {
   "cell_type": "code",
   "execution_count": 4,
   "id": "3c0948e8",
   "metadata": {},
   "outputs": [],
   "source": [
    "# import cProfile, pstats\n",
    "# profiler = cProfile.Profile()\n",
    "# profiler.enable()\n",
    "# model = HomophilyModel()\n",
    "# model.run(10000)\n",
    "# profiler.disable()\n",
    "# stats = pstats.Stats(profiler).sort_stats('tottime')\n",
    "# stats.print_stats(0.25)"
   ]
  }
 ],
 "metadata": {
  "kernelspec": {
   "display_name": "Python 3 (ipykernel)",
   "language": "python",
   "name": "python3"
  },
  "language_info": {
   "codemirror_mode": {
    "name": "ipython",
    "version": 3
   },
   "file_extension": ".py",
   "mimetype": "text/x-python",
   "name": "python",
   "nbconvert_exporter": "python",
   "pygments_lexer": "ipython3",
   "version": "3.11.0"
  }
 },
 "nbformat": 4,
 "nbformat_minor": 5
}
